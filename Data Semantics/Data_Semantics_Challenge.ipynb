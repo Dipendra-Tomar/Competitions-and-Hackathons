{
  "nbformat": 4,
  "nbformat_minor": 0,
  "metadata": {
    "colab": {
      "name": "Data Semantics Challenge.ipynb",
      "provenance": [],
      "collapsed_sections": []
    },
    "kernelspec": {
      "name": "python3",
      "display_name": "Python 3"
    },
    "accelerator": "GPU"
  },
  "cells": [
    {
      "cell_type": "code",
      "metadata": {
        "id": "gcH9T32bk0VH",
        "colab_type": "code",
        "colab": {}
      },
      "source": [
        "# Libraries & Data Imports"
      ],
      "execution_count": 0,
      "outputs": []
    },
    {
      "cell_type": "code",
      "metadata": {
        "id": "8AWgRdGoiwH5",
        "colab_type": "code",
        "colab": {}
      },
      "source": [
        "!curl 'https://cdn.skillenza.com/files/8a6674bb-25af-475c-84b5-4f5d103593ec/training_1.csv' -H 'User-Agent: Mozilla/5.0 (X11; Ubuntu; Linux i686; rv:69.0) Gecko/20100101 Firefox/69.0' -H 'Accept: text/html,application/xhtml+xml,application/xml;q=0.9,*/*;q=0.8' -H 'Accept-Language: en-US,en;q=0.5' --compressed -H 'Connection: keep-alive' -H 'Referer: https://skillenza.com/challenge/datasemantics-hiringchallenge-datascientist-sep/checkpoint/submit/1933' -H 'Cookie: _ga=GA1.2.1778547320.1565265892; _hjid=8c788acc-d536-49ca-ad54-9b1baf038076; G_ENABLED_IDPS=google; _gid=GA1.2.210378034.1569058731' -H 'Upgrade-Insecure-Requests: 1' -H 'TE: Trailers' -o train.csv\n",
        "!curl 'https://cdn.skillenza.com/files/a3344af0-f63d-43c4-a2e6-007175a6ebb2/test.csv' -H 'User-Agent: Mozilla/5.0 (X11; Ubuntu; Linux i686; rv:69.0) Gecko/20100101 Firefox/69.0' -H 'Accept: text/html,application/xhtml+xml,application/xml;q=0.9,*/*;q=0.8' -H 'Accept-Language: en-US,en;q=0.5' --compressed -H 'Connection: keep-alive' -H 'Referer: https://skillenza.com/challenge/datasemantics-hiringchallenge-datascientist-sep/checkpoint/submit/1933' -H 'Cookie: _ga=GA1.2.1778547320.1565265892; _hjid=8c788acc-d536-49ca-ad54-9b1baf038076; G_ENABLED_IDPS=google; _gid=GA1.2.210378034.1569058731' -H 'Upgrade-Insecure-Requests: 1' -H 'TE: Trailers' -o test.csv"
      ],
      "execution_count": 0,
      "outputs": []
    },
    {
      "cell_type": "code",
      "metadata": {
        "id": "A3iMx0fki-hv",
        "colab_type": "code",
        "colab": {}
      },
      "source": [
        "%load_ext autoreload\n",
        "%autoreload 2\n",
        "\n",
        "%matplotlib inline"
      ],
      "execution_count": 0,
      "outputs": []
    },
    {
      "cell_type": "code",
      "metadata": {
        "id": "3U3q-0VCjNwf",
        "colab_type": "code",
        "colab": {}
      },
      "source": [
        "import warnings\n",
        "warnings.filterwarnings(\"ignore\") \n",
        "\n",
        "from sklearn.ensemble import RandomForestRegressor\n",
        "from IPython.display import display\n",
        "\n",
        "from sklearn import metrics\n",
        "from sklearn.feature_extraction.text import TfidfVectorizer, TfidfTransformer, CountVectorizer\n",
        "from sklearn.model_selection import train_test_split\n",
        "from sklearn.naive_bayes import MultinomialNB\n",
        "from sklearn.svm import LinearSVC\n",
        "\n",
        "from imblearn.over_sampling import RandomOverSampler, SMOTE\n",
        "from imblearn.combine import SMOTEENN,SMOTETomek"
      ],
      "execution_count": 0,
      "outputs": []
    },
    {
      "cell_type": "code",
      "metadata": {
        "id": "HZ_a1QSnjf11",
        "colab_type": "code",
        "colab": {}
      },
      "source": [
        "df_raw = pd.read_csv(\"train.csv\", low_memory=False)\n",
        "test_data = pd.read_csv(\"test.csv\", low_memory=False)"
      ],
      "execution_count": 0,
      "outputs": []
    },
    {
      "cell_type": "code",
      "metadata": {
        "id": "7wLm7PdzhoBo",
        "colab_type": "code",
        "colab": {}
      },
      "source": [
        "my_dict = {}\n",
        "for each in df_raw['text']:\n",
        "  temp_list = each.split()\n",
        "  for word in temp_list:\n",
        "    if word in my_dict:\n",
        "      my_dict[word] += 1\n",
        "    else:\n",
        "      my_dict.update({word: 1})"
      ],
      "execution_count": 0,
      "outputs": []
    },
    {
      "cell_type": "code",
      "metadata": {
        "id": "SZHfCNAnjBwh",
        "colab_type": "code",
        "outputId": "5845dffa-29f4-4866-f8b8-b8299142e43c",
        "colab": {
          "base_uri": "https://localhost:8080/",
          "height": 364
        }
      },
      "source": [
        "from operator import itemgetter  \n",
        "\n",
        "i = 0\n",
        "for key, value in sorted(my_dict.items(), key = itemgetter(1), reverse = True):\n",
        "    print(key, value)\n",
        "    i += 1\n",
        "    if i == 20:\n",
        "      break"
      ],
      "execution_count": 9,
      "outputs": [
        {
          "output_type": "stream",
          "text": [
            "5773 3131\n",
            "237 1267\n",
            "2734 1255\n",
            "230 1251\n",
            "6084 1115\n",
            "3078 1069\n",
            "7526 949\n",
            "8542 797\n",
            "5922 795\n",
            "4017 758\n",
            "2698 615\n",
            "5071 592\n",
            "6300 576\n",
            "224 573\n",
            "5045 547\n",
            "753 541\n",
            "6700 523\n",
            "8406 455\n",
            "4211 419\n",
            "1994 400\n"
          ],
          "name": "stdout"
        }
      ]
    },
    {
      "cell_type": "code",
      "metadata": {
        "id": "XUMtR6YKki6W",
        "colab_type": "code",
        "outputId": "708dc2ac-3263-4bc6-d67d-c9075602e9f9",
        "colab": {
          "base_uri": "https://localhost:8080/",
          "height": 34
        }
      },
      "source": [
        "tfidf = TfidfVectorizer(sublinear_tf=True, min_df=5, norm='l2', encoding='latin-1',\n",
        "    ngram_range=(1, 2), stop_words=['5773', '237', '2734', '230', '6084', '3078'])\n",
        "features = tfidf.fit_transform(df_raw.text).toarray()\n",
        "labels = df_raw.category\n",
        "features.shape"
      ],
      "execution_count": 110,
      "outputs": [
        {
          "output_type": "execute_result",
          "data": {
            "text/plain": [
              "(3464, 2395)"
            ]
          },
          "metadata": {
            "tags": []
          },
          "execution_count": 110
        }
      ]
    },
    {
      "cell_type": "code",
      "metadata": {
        "id": "69hvXKcZeeJK",
        "colab_type": "code",
        "colab": {}
      },
      "source": [
        "#Splitting data\n",
        "X_train, X_test, y_train, y_test = train_test_split(\n",
        "    df_raw['text'], df_raw['category'], test_size=0.3)\n",
        "\n",
        "# Transforming Text data\n",
        "count_vect = CountVectorizer(stop_words=['5773'])\n",
        "X_counts = count_vect.fit_transform(X_train)\n",
        "tfidf_transformer = TfidfTransformer()\n",
        "X_tfidf = tfidf_transformer.fit_transform(X_counts)\n"
      ],
      "execution_count": 0,
      "outputs": []
    },
    {
      "cell_type": "code",
      "metadata": {
        "id": "tR6f065i1uMQ",
        "colab_type": "code",
        "outputId": "a69a62c8-0b2e-4b78-d37e-9a0efaa40852",
        "colab": {
          "base_uri": "https://localhost:8080/",
          "height": 173
        }
      },
      "source": [
        "# Without Resampling\n",
        "clf = LinearSVC().fit(X_tfidf, y_train)\n",
        "y_pred = clf.predict(count_vect.transform(X_test))\n",
        "print(metrics.classification_report(y_test, y_pred))"
      ],
      "execution_count": 112,
      "outputs": [
        {
          "output_type": "stream",
          "text": [
            "              precision    recall  f1-score   support\n",
            "\n",
            "           0       1.00      0.97      0.98      1001\n",
            "           1       0.52      0.97      0.68        39\n",
            "\n",
            "    accuracy                           0.97      1040\n",
            "   macro avg       0.76      0.97      0.83      1040\n",
            "weighted avg       0.98      0.97      0.97      1040\n",
            "\n"
          ],
          "name": "stdout"
        }
      ]
    },
    {
      "cell_type": "code",
      "metadata": {
        "id": "UfP9_UVT27Qm",
        "colab_type": "code",
        "outputId": "67be8e43-3fae-41b9-f3fb-efe35aa70b73",
        "colab": {
          "base_uri": "https://localhost:8080/",
          "height": 143
        }
      },
      "source": [
        "df_raw.groupby('category').count()"
      ],
      "execution_count": 20,
      "outputs": [
        {
          "output_type": "execute_result",
          "data": {
            "text/html": [
              "<div>\n",
              "<style scoped>\n",
              "    .dataframe tbody tr th:only-of-type {\n",
              "        vertical-align: middle;\n",
              "    }\n",
              "\n",
              "    .dataframe tbody tr th {\n",
              "        vertical-align: top;\n",
              "    }\n",
              "\n",
              "    .dataframe thead th {\n",
              "        text-align: right;\n",
              "    }\n",
              "</style>\n",
              "<table border=\"1\" class=\"dataframe\">\n",
              "  <thead>\n",
              "    <tr style=\"text-align: right;\">\n",
              "      <th></th>\n",
              "      <th>id</th>\n",
              "      <th>text</th>\n",
              "    </tr>\n",
              "    <tr>\n",
              "      <th>category</th>\n",
              "      <th></th>\n",
              "      <th></th>\n",
              "    </tr>\n",
              "  </thead>\n",
              "  <tbody>\n",
              "    <tr>\n",
              "      <th>0</th>\n",
              "      <td>3348</td>\n",
              "      <td>3348</td>\n",
              "    </tr>\n",
              "    <tr>\n",
              "      <th>1</th>\n",
              "      <td>116</td>\n",
              "      <td>116</td>\n",
              "    </tr>\n",
              "  </tbody>\n",
              "</table>\n",
              "</div>"
            ],
            "text/plain": [
              "            id  text\n",
              "category            \n",
              "0         3348  3348\n",
              "1          116   116"
            ]
          },
          "metadata": {
            "tags": []
          },
          "execution_count": 20
        }
      ]
    },
    {
      "cell_type": "markdown",
      "metadata": {
        "id": "9ffOVQ-v29rY",
        "colab_type": "text"
      },
      "source": [
        "## Data is Imbalanced:\n",
        "Applying Some Resampling techniques"
      ]
    },
    {
      "cell_type": "code",
      "metadata": {
        "id": "jrTAeN1814hH",
        "colab_type": "code",
        "outputId": "d2ce9d2e-c281-4a3b-d3b7-4ec01921b5b7",
        "colab": {
          "base_uri": "https://localhost:8080/",
          "height": 173
        }
      },
      "source": [
        "# SMOTE oversampling data\n",
        "os=SMOTE(ratio=0.5,random_state=1,k_neighbors=5)\n",
        "X_train_res, y_train_res=os.fit_sample(X_tfidf, y_train)\n",
        "clf = LinearSVC().fit(X_train_res, y_train_res)\n",
        "y_pred = clf.predict(count_vect.transform(X_test))\n",
        "print(metrics.classification_report(y_test, y_pred))"
      ],
      "execution_count": 106,
      "outputs": [
        {
          "output_type": "stream",
          "text": [
            "              precision    recall  f1-score   support\n",
            "\n",
            "           0       1.00      0.97      0.98      1014\n",
            "           1       0.46      1.00      0.63        26\n",
            "\n",
            "    accuracy                           0.97      1040\n",
            "   macro avg       0.73      0.99      0.81      1040\n",
            "weighted avg       0.99      0.97      0.98      1040\n",
            "\n"
          ],
          "name": "stdout"
        }
      ]
    },
    {
      "cell_type": "code",
      "metadata": {
        "id": "7BXHoZSk2dOD",
        "colab_type": "code",
        "outputId": "e913394e-0c2c-4dd2-9d29-7f1b91a56023",
        "colab": {
          "base_uri": "https://localhost:8080/",
          "height": 173
        }
      },
      "source": [
        "# SMOTE (OverSampling) + Tomek Link Removal (UnderSampling)\n",
        "os_us=SMOTETomek(ratio=0.5,random_state=1)\n",
        "X_train_res, y_train_res=os_us.fit_sample(X_tfidf, y_train)\n",
        "clf = LinearSVC().fit(X_train_res, y_train_res)\n",
        "y_pred = clf.predict(count_vect.transform(X_test))\n",
        "print(metrics.classification_report(y_test, y_pred))"
      ],
      "execution_count": 33,
      "outputs": [
        {
          "output_type": "stream",
          "text": [
            "              precision    recall  f1-score   support\n",
            "\n",
            "           0       1.00      0.97      0.98      1002\n",
            "           1       0.52      0.97      0.68        38\n",
            "\n",
            "    accuracy                           0.97      1040\n",
            "   macro avg       0.76      0.97      0.83      1040\n",
            "weighted avg       0.98      0.97      0.97      1040\n",
            "\n"
          ],
          "name": "stdout"
        }
      ]
    },
    {
      "cell_type": "code",
      "metadata": {
        "id": "9XcBs8QWT8WJ",
        "colab_type": "code",
        "outputId": "8882d9a7-cd27-401d-dabd-09af134a5fbd",
        "colab": {
          "base_uri": "https://localhost:8080/",
          "height": 173
        }
      },
      "source": [
        "# SMOTE (OverSampling) + Edited Nearest Neighbor (UnderSampling)\n",
        "\n",
        "os_us=SMOTEENN(ratio=0.5,random_state=1)\n",
        "X_train_res, y_train_res=os_us.fit_sample(X_tfidf, y_train)\n",
        "clf = LinearSVC().fit(X_train_res, y_train_res)\n",
        "y_pred = clf.predict(count_vect.transform(X_test))\n",
        "print(metrics.classification_report(y_test, y_pred))"
      ],
      "execution_count": 34,
      "outputs": [
        {
          "output_type": "stream",
          "text": [
            "              precision    recall  f1-score   support\n",
            "\n",
            "           0       1.00      0.88      0.93      1002\n",
            "           1       0.23      0.97      0.37        38\n",
            "\n",
            "    accuracy                           0.88      1040\n",
            "   macro avg       0.61      0.92      0.65      1040\n",
            "weighted avg       0.97      0.88      0.91      1040\n",
            "\n"
          ],
          "name": "stdout"
        }
      ]
    },
    {
      "cell_type": "markdown",
      "metadata": {
        "id": "2PxP5_VLk8Iq",
        "colab_type": "text"
      },
      "source": [
        "# Model Selection"
      ]
    },
    {
      "cell_type": "code",
      "metadata": {
        "id": "pL0grU6nk7FC",
        "colab_type": "code",
        "colab": {}
      },
      "source": [
        "from sklearn.linear_model import LogisticRegression\n",
        "from sklearn.ensemble import RandomForestClassifier\n",
        "from sklearn.svm import LinearSVC\n",
        "from sklearn.model_selection import cross_val_score\n",
        "models = [\n",
        "    RandomForestClassifier(n_estimators=200, max_features='sqrt', min_samples_leaf=4, random_state=0),\n",
        "    LinearSVC(),\n",
        "    MultinomialNB(),\n",
        "    LogisticRegression(random_state=0),\n",
        "]\n",
        "CV = 5\n",
        "cv_df = pd.DataFrame(index=range(CV * len(models)))\n",
        "entries = []\n",
        "for model in models:\n",
        "  model_name = model.__class__.__name__\n",
        "  accuracies = cross_val_score(model, features, labels, scoring='accuracy', cv=CV)\n",
        "  precisions = cross_val_score(model, features, labels, scoring='precision', cv=CV)\n",
        "  recalls = cross_val_score(model, features, labels, scoring='recall', cv=CV)\n",
        "  f1s = cross_val_score(model, features, labels, scoring='f1', cv=CV)\n",
        "  for fold_idx, score in enumerate(zip(accuracies, precisions, recalls, f1s)):\n",
        "    entries.append((model_name, fold_idx, score[0], score[1], score[2], score[3]))\n",
        "cv_df = pd.DataFrame(entries,\n",
        "                     columns=['model_name', 'fold_idx', 'accuracy', 'precision', 'recall', 'f1'])"
      ],
      "execution_count": 0,
      "outputs": []
    },
    {
      "cell_type": "code",
      "metadata": {
        "id": "J-zxWgREV9d1",
        "colab_type": "code",
        "outputId": "8927d696-45f1-49e9-90d4-8051a1909e70",
        "colab": {
          "base_uri": "https://localhost:8080/",
          "height": 677
        }
      },
      "source": [
        "cv_df"
      ],
      "execution_count": 0,
      "outputs": [
        {
          "output_type": "execute_result",
          "data": {
            "text/html": [
              "<div>\n",
              "<style scoped>\n",
              "    .dataframe tbody tr th:only-of-type {\n",
              "        vertical-align: middle;\n",
              "    }\n",
              "\n",
              "    .dataframe tbody tr th {\n",
              "        vertical-align: top;\n",
              "    }\n",
              "\n",
              "    .dataframe thead th {\n",
              "        text-align: right;\n",
              "    }\n",
              "</style>\n",
              "<table border=\"1\" class=\"dataframe\">\n",
              "  <thead>\n",
              "    <tr style=\"text-align: right;\">\n",
              "      <th></th>\n",
              "      <th>model_name</th>\n",
              "      <th>fold_idx</th>\n",
              "      <th>accuracy</th>\n",
              "      <th>precision</th>\n",
              "      <th>recall</th>\n",
              "      <th>f1</th>\n",
              "    </tr>\n",
              "  </thead>\n",
              "  <tbody>\n",
              "    <tr>\n",
              "      <th>0</th>\n",
              "      <td>RandomForestClassifier</td>\n",
              "      <td>0</td>\n",
              "      <td>0.968300</td>\n",
              "      <td>1.000000</td>\n",
              "      <td>0.083333</td>\n",
              "      <td>0.153846</td>\n",
              "    </tr>\n",
              "    <tr>\n",
              "      <th>1</th>\n",
              "      <td>RandomForestClassifier</td>\n",
              "      <td>1</td>\n",
              "      <td>0.971140</td>\n",
              "      <td>1.000000</td>\n",
              "      <td>0.130435</td>\n",
              "      <td>0.230769</td>\n",
              "    </tr>\n",
              "    <tr>\n",
              "      <th>2</th>\n",
              "      <td>RandomForestClassifier</td>\n",
              "      <td>2</td>\n",
              "      <td>0.974026</td>\n",
              "      <td>1.000000</td>\n",
              "      <td>0.217391</td>\n",
              "      <td>0.357143</td>\n",
              "    </tr>\n",
              "    <tr>\n",
              "      <th>3</th>\n",
              "      <td>RandomForestClassifier</td>\n",
              "      <td>3</td>\n",
              "      <td>0.973988</td>\n",
              "      <td>1.000000</td>\n",
              "      <td>0.217391</td>\n",
              "      <td>0.357143</td>\n",
              "    </tr>\n",
              "    <tr>\n",
              "      <th>4</th>\n",
              "      <td>RandomForestClassifier</td>\n",
              "      <td>4</td>\n",
              "      <td>0.971098</td>\n",
              "      <td>1.000000</td>\n",
              "      <td>0.130435</td>\n",
              "      <td>0.230769</td>\n",
              "    </tr>\n",
              "    <tr>\n",
              "      <th>5</th>\n",
              "      <td>LinearSVC</td>\n",
              "      <td>0</td>\n",
              "      <td>0.989914</td>\n",
              "      <td>1.000000</td>\n",
              "      <td>0.708333</td>\n",
              "      <td>0.829268</td>\n",
              "    </tr>\n",
              "    <tr>\n",
              "      <th>6</th>\n",
              "      <td>LinearSVC</td>\n",
              "      <td>1</td>\n",
              "      <td>0.987013</td>\n",
              "      <td>1.000000</td>\n",
              "      <td>0.608696</td>\n",
              "      <td>0.756757</td>\n",
              "    </tr>\n",
              "    <tr>\n",
              "      <th>7</th>\n",
              "      <td>LinearSVC</td>\n",
              "      <td>2</td>\n",
              "      <td>0.997114</td>\n",
              "      <td>1.000000</td>\n",
              "      <td>0.913043</td>\n",
              "      <td>0.954545</td>\n",
              "    </tr>\n",
              "    <tr>\n",
              "      <th>8</th>\n",
              "      <td>LinearSVC</td>\n",
              "      <td>3</td>\n",
              "      <td>0.986994</td>\n",
              "      <td>0.888889</td>\n",
              "      <td>0.695652</td>\n",
              "      <td>0.780488</td>\n",
              "    </tr>\n",
              "    <tr>\n",
              "      <th>9</th>\n",
              "      <td>LinearSVC</td>\n",
              "      <td>4</td>\n",
              "      <td>0.992775</td>\n",
              "      <td>1.000000</td>\n",
              "      <td>0.782609</td>\n",
              "      <td>0.878049</td>\n",
              "    </tr>\n",
              "    <tr>\n",
              "      <th>10</th>\n",
              "      <td>MultinomialNB</td>\n",
              "      <td>0</td>\n",
              "      <td>0.979827</td>\n",
              "      <td>1.000000</td>\n",
              "      <td>0.416667</td>\n",
              "      <td>0.588235</td>\n",
              "    </tr>\n",
              "    <tr>\n",
              "      <th>11</th>\n",
              "      <td>MultinomialNB</td>\n",
              "      <td>1</td>\n",
              "      <td>0.976912</td>\n",
              "      <td>0.769231</td>\n",
              "      <td>0.434783</td>\n",
              "      <td>0.555556</td>\n",
              "    </tr>\n",
              "    <tr>\n",
              "      <th>12</th>\n",
              "      <td>MultinomialNB</td>\n",
              "      <td>2</td>\n",
              "      <td>0.979798</td>\n",
              "      <td>0.846154</td>\n",
              "      <td>0.478261</td>\n",
              "      <td>0.611111</td>\n",
              "    </tr>\n",
              "    <tr>\n",
              "      <th>13</th>\n",
              "      <td>MultinomialNB</td>\n",
              "      <td>3</td>\n",
              "      <td>0.975434</td>\n",
              "      <td>0.875000</td>\n",
              "      <td>0.304348</td>\n",
              "      <td>0.451613</td>\n",
              "    </tr>\n",
              "    <tr>\n",
              "      <th>14</th>\n",
              "      <td>MultinomialNB</td>\n",
              "      <td>4</td>\n",
              "      <td>0.979769</td>\n",
              "      <td>1.000000</td>\n",
              "      <td>0.391304</td>\n",
              "      <td>0.562500</td>\n",
              "    </tr>\n",
              "    <tr>\n",
              "      <th>15</th>\n",
              "      <td>LogisticRegression</td>\n",
              "      <td>0</td>\n",
              "      <td>0.966859</td>\n",
              "      <td>1.000000</td>\n",
              "      <td>0.041667</td>\n",
              "      <td>0.080000</td>\n",
              "    </tr>\n",
              "    <tr>\n",
              "      <th>16</th>\n",
              "      <td>LogisticRegression</td>\n",
              "      <td>1</td>\n",
              "      <td>0.968254</td>\n",
              "      <td>1.000000</td>\n",
              "      <td>0.043478</td>\n",
              "      <td>0.083333</td>\n",
              "    </tr>\n",
              "    <tr>\n",
              "      <th>17</th>\n",
              "      <td>LogisticRegression</td>\n",
              "      <td>2</td>\n",
              "      <td>0.969697</td>\n",
              "      <td>1.000000</td>\n",
              "      <td>0.086957</td>\n",
              "      <td>0.160000</td>\n",
              "    </tr>\n",
              "    <tr>\n",
              "      <th>18</th>\n",
              "      <td>LogisticRegression</td>\n",
              "      <td>3</td>\n",
              "      <td>0.966763</td>\n",
              "      <td>0.000000</td>\n",
              "      <td>0.000000</td>\n",
              "      <td>0.000000</td>\n",
              "    </tr>\n",
              "    <tr>\n",
              "      <th>19</th>\n",
              "      <td>LogisticRegression</td>\n",
              "      <td>4</td>\n",
              "      <td>0.971098</td>\n",
              "      <td>1.000000</td>\n",
              "      <td>0.130435</td>\n",
              "      <td>0.230769</td>\n",
              "    </tr>\n",
              "  </tbody>\n",
              "</table>\n",
              "</div>"
            ],
            "text/plain": [
              "                model_name  fold_idx  accuracy  precision    recall        f1\n",
              "0   RandomForestClassifier         0  0.968300   1.000000  0.083333  0.153846\n",
              "1   RandomForestClassifier         1  0.971140   1.000000  0.130435  0.230769\n",
              "2   RandomForestClassifier         2  0.974026   1.000000  0.217391  0.357143\n",
              "3   RandomForestClassifier         3  0.973988   1.000000  0.217391  0.357143\n",
              "4   RandomForestClassifier         4  0.971098   1.000000  0.130435  0.230769\n",
              "5                LinearSVC         0  0.989914   1.000000  0.708333  0.829268\n",
              "6                LinearSVC         1  0.987013   1.000000  0.608696  0.756757\n",
              "7                LinearSVC         2  0.997114   1.000000  0.913043  0.954545\n",
              "8                LinearSVC         3  0.986994   0.888889  0.695652  0.780488\n",
              "9                LinearSVC         4  0.992775   1.000000  0.782609  0.878049\n",
              "10           MultinomialNB         0  0.979827   1.000000  0.416667  0.588235\n",
              "11           MultinomialNB         1  0.976912   0.769231  0.434783  0.555556\n",
              "12           MultinomialNB         2  0.979798   0.846154  0.478261  0.611111\n",
              "13           MultinomialNB         3  0.975434   0.875000  0.304348  0.451613\n",
              "14           MultinomialNB         4  0.979769   1.000000  0.391304  0.562500\n",
              "15      LogisticRegression         0  0.966859   1.000000  0.041667  0.080000\n",
              "16      LogisticRegression         1  0.968254   1.000000  0.043478  0.083333\n",
              "17      LogisticRegression         2  0.969697   1.000000  0.086957  0.160000\n",
              "18      LogisticRegression         3  0.966763   0.000000  0.000000  0.000000\n",
              "19      LogisticRegression         4  0.971098   1.000000  0.130435  0.230769"
            ]
          },
          "metadata": {
            "tags": []
          },
          "execution_count": 10
        }
      ]
    },
    {
      "cell_type": "markdown",
      "metadata": {
        "id": "f8pHPdv3r5zo",
        "colab_type": "text"
      },
      "source": [
        "# Working On Random Forest"
      ]
    },
    {
      "cell_type": "code",
      "metadata": {
        "id": "wc6_5iknr-ll",
        "colab_type": "code",
        "outputId": "6d19ced1-fb22-4274-bf52-5775fcbba4cf",
        "colab": {
          "base_uri": "https://localhost:8080/",
          "height": 173
        }
      },
      "source": [
        "rf_clf = RandomForestClassifier(\n",
        "    n_estimators=50, max_features='sqrt', min_samples_leaf=10)\n",
        "rf_clf.fit(X_train_res, y_train_res)\n",
        "y_pred = rf_clf.predict(count_vect.transform(X_test))\n",
        "print(metrics.classification_report(y_test, y_pred))"
      ],
      "execution_count": 0,
      "outputs": [
        {
          "output_type": "stream",
          "text": [
            "              precision    recall  f1-score   support\n",
            "\n",
            "           0       0.99      0.99      0.99      1008\n",
            "           1       0.74      0.81      0.78        32\n",
            "\n",
            "    accuracy                           0.99      1040\n",
            "   macro avg       0.87      0.90      0.88      1040\n",
            "weighted avg       0.99      0.99      0.99      1040\n",
            "\n"
          ],
          "name": "stdout"
        }
      ]
    },
    {
      "cell_type": "markdown",
      "metadata": {
        "id": "GJ_Fhc3OqHLW",
        "colab_type": "text"
      },
      "source": [
        "# Trying Neural Network"
      ]
    },
    {
      "cell_type": "code",
      "metadata": {
        "id": "fO7G4r9EqK9_",
        "colab_type": "code",
        "colab": {
          "base_uri": "https://localhost:8080/",
          "height": 173
        },
        "outputId": "bafb7a30-047e-4988-d455-ba11a568e4ea"
      },
      "source": [
        "from sklearn.neural_network import MLPClassifier\n",
        "\n",
        "nn_clf = MLPClassifier(hidden_layer_sizes=10, activation='relu')\n",
        "nn_clf.fit(X_tfidf, y_train)\n",
        "y_pred = nn_clf.predict(count_vect.transform(X_test))\n",
        "print(metrics.classification_report(y_test, y_pred))"
      ],
      "execution_count": 87,
      "outputs": [
        {
          "output_type": "stream",
          "text": [
            "              precision    recall  f1-score   support\n",
            "\n",
            "           0       0.99      1.00      1.00      1014\n",
            "           1       0.95      0.73      0.83        26\n",
            "\n",
            "    accuracy                           0.99      1040\n",
            "   macro avg       0.97      0.86      0.91      1040\n",
            "weighted avg       0.99      0.99      0.99      1040\n",
            "\n"
          ],
          "name": "stdout"
        }
      ]
    },
    {
      "cell_type": "code",
      "metadata": {
        "id": "ibEHjBbPs_Ta",
        "colab_type": "code",
        "colab": {
          "base_uri": "https://localhost:8080/",
          "height": 173
        },
        "outputId": "cb6d21ad-b3f1-4654-b592-14915bbd3e98"
      },
      "source": [
        "# SMOTE (OverSampling) + Edited Nearest Neighbor (UnderSampling)\n",
        "\n",
        "os_us=SMOTEENN(ratio=0.5,random_state=1)\n",
        "X_train_res, y_train_res=os_us.fit_sample(X_tfidf, y_train)\n",
        "nn_clf = MLPClassifier(hidden_layer_sizes=10, activation='relu')\n",
        "nn_clf.fit(X_train_res, y_train_res)\n",
        "y_pred = nn_clf.predict(count_vect.transform(X_test))\n",
        "print(metrics.classification_report(y_test, y_pred))"
      ],
      "execution_count": 88,
      "outputs": [
        {
          "output_type": "stream",
          "text": [
            "              precision    recall  f1-score   support\n",
            "\n",
            "           0       1.00      0.98      0.99      1014\n",
            "           1       0.56      0.92      0.70        26\n",
            "\n",
            "    accuracy                           0.98      1040\n",
            "   macro avg       0.78      0.95      0.84      1040\n",
            "weighted avg       0.99      0.98      0.98      1040\n",
            "\n"
          ],
          "name": "stdout"
        }
      ]
    },
    {
      "cell_type": "code",
      "metadata": {
        "id": "WlWIdsMJwLiG",
        "colab_type": "code",
        "colab": {
          "base_uri": "https://localhost:8080/",
          "height": 173
        },
        "outputId": "6e0a1e0b-7c6e-4fe2-ee6f-339d6fc10fe6"
      },
      "source": [
        "# SMOTE (OverSampling) + Tomek Link(UnderSampling)\n",
        "\n",
        "os_us=SMOTETomek(ratio=0.5,random_state=1)\n",
        "X_train_res, y_train_res=os_us.fit_sample(X_tfidf, y_train)\n",
        "nn_clf = MLPClassifier(hidden_layer_sizes=50, activation='relu')\n",
        "nn_clf.fit(X_train_res, y_train_res)\n",
        "y_pred = nn_clf.predict(count_vect.transform(X_test))\n",
        "print(metrics.classification_report(y_test, y_pred))"
      ],
      "execution_count": 99,
      "outputs": [
        {
          "output_type": "stream",
          "text": [
            "              precision    recall  f1-score   support\n",
            "\n",
            "           0       1.00      1.00      1.00      1014\n",
            "           1       0.88      0.88      0.88        26\n",
            "\n",
            "    accuracy                           0.99      1040\n",
            "   macro avg       0.94      0.94      0.94      1040\n",
            "weighted avg       0.99      0.99      0.99      1040\n",
            "\n"
          ],
          "name": "stdout"
        }
      ]
    },
    {
      "cell_type": "code",
      "metadata": {
        "id": "IBrsOczwwb-s",
        "colab_type": "code",
        "colab": {
          "base_uri": "https://localhost:8080/",
          "height": 173
        },
        "outputId": "f0215b78-8357-413b-92b9-adfa57150c4d"
      },
      "source": [
        "# SMOTE oversampling data\n",
        "os=SMOTE(ratio=0.5,random_state=1,k_neighbors=5)\n",
        "X_train_res, y_train_res=os.fit_sample(X_tfidf, y_train)\n",
        "nn_clf = MLPClassifier(hidden_layer_sizes=50, activation='tanh')\n",
        "nn_clf.fit(X_tfidf, y_train)\n",
        "y_pred = nn_clf.predict(count_vect.transform(X_test))\n",
        "print(metrics.classification_report(y_test, y_pred))"
      ],
      "execution_count": 105,
      "outputs": [
        {
          "output_type": "stream",
          "text": [
            "              precision    recall  f1-score   support\n",
            "\n",
            "           0       1.00      1.00      1.00      1014\n",
            "           1       0.96      0.88      0.92        26\n",
            "\n",
            "    accuracy                           1.00      1040\n",
            "   macro avg       0.98      0.94      0.96      1040\n",
            "weighted avg       1.00      1.00      1.00      1040\n",
            "\n"
          ],
          "name": "stdout"
        }
      ]
    },
    {
      "cell_type": "markdown",
      "metadata": {
        "id": "kab_wpWMr_-i",
        "colab_type": "text"
      },
      "source": [
        "# Test Result Output"
      ]
    },
    {
      "cell_type": "code",
      "metadata": {
        "id": "zhuJStbzgHo5",
        "colab_type": "code",
        "colab": {}
      },
      "source": [
        "out = test_data.copy()\n",
        "out['category'] = clf.predict(count_vect.transform(out['text']))\n",
        "out[['id', 'category']].to_csv('test_result.csv', index=False)"
      ],
      "execution_count": 0,
      "outputs": []
    },
    {
      "cell_type": "code",
      "metadata": {
        "id": "FPlUw2a8ou3b",
        "colab_type": "code",
        "outputId": "16cb0b3a-9c39-4e62-b21f-abceb68eb31d",
        "colab": {
          "base_uri": "https://localhost:8080/",
          "height": 34
        }
      },
      "source": [
        "type(X_tfidf[0])"
      ],
      "execution_count": 0,
      "outputs": [
        {
          "output_type": "execute_result",
          "data": {
            "text/plain": [
              "scipy.sparse.csr.csr_matrix"
            ]
          },
          "metadata": {
            "tags": []
          },
          "execution_count": 74
        }
      ]
    },
    {
      "cell_type": "code",
      "metadata": {
        "id": "7mX4xJAzZm_Y",
        "colab_type": "code",
        "colab": {}
      },
      "source": [
        ""
      ],
      "execution_count": 0,
      "outputs": []
    }
  ]
}